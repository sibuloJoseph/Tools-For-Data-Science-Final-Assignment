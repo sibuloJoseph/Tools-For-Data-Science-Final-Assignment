{
 "cells": [
  {
   "cell_type": "markdown",
   "id": "4b8dacc4-0258-482e-b8bd-3fbc6fd5a9ef",
   "metadata": {},
   "source": [
    "# Data Science Tools and Ecosystem"
   ]
  },
  {
   "cell_type": "markdown",
   "id": "7e54efdd-794c-449e-bfca-faa7cd836f3a",
   "metadata": {
    "jp-MarkdownHeadingCollapsed": true,
    "tags": []
   },
   "source": [
    "## In this notebook, Data Science Tools and Ecosystem are sumamrized."
   ]
  },
  {
   "cell_type": "markdown",
   "id": "5c7403da-aef8-4c4e-bbe1-8594442992a2",
   "metadata": {},
   "source": [
    "**Objectives:**"
   ]
  },
  {
   "cell_type": "markdown",
   "id": "f2f7ac4f-7faa-4240-9a7c-d8ceacbbb902",
   "metadata": {},
   "source": [
    "- List of Popular Languages in Data Science.\n",
    "- List of Commonly Used Libraries in Data Science.\n",
    "- Table Consisting of Development Environment Open Source Tools Used in Data Science.\n",
    "- Arithmetic Expression That Multiply Then Add Integers in Python.\n",
    "- Arithmetic Expression That Converts Minutes to Hours in Python."
   ]
  },
  {
   "cell_type": "markdown",
   "id": "65b5a754-58e5-4509-9084-d91481fe0de0",
   "metadata": {},
   "source": [
    "### Some of the popular langauges that Data Scientists use are:"
   ]
  },
  {
   "cell_type": "markdown",
   "id": "948183c7-6c72-4442-80ba-38b06dfb57f2",
   "metadata": {},
   "source": [
    "1. Python\n",
    "2. R\n",
    "3. SQL\n",
    "4. Scala\n",
    "5. Java"
   ]
  },
  {
   "cell_type": "markdown",
   "id": "a06e6e61-57c4-46e5-8964-1e51af770890",
   "metadata": {},
   "source": [
    "### Some of the commonly used libraries used by Data Scientists Include:"
   ]
  },
  {
   "cell_type": "markdown",
   "id": "64668658-6ab6-4081-bb13-1c422bb74d36",
   "metadata": {},
   "source": [
    "1. Numpy\n",
    "2. Matplotlib\n",
    "3. Seaborn\n",
    "4. Scikit-Learn "
   ]
  },
  {
   "cell_type": "markdown",
   "id": "25e7f78d-69d5-49bd-8023-215584bf3110",
   "metadata": {},
   "source": [
    "|Data Science Tools.|\n",
    "|-------------------|\n",
    "|Jupyter Notebook|\n",
    "|RStudio|\n",
    "|GitHub|\n"
   ]
  },
  {
   "cell_type": "markdown",
   "id": "1f768fc5-6ada-4ab3-9f49-8a7c93447534",
   "metadata": {},
   "source": [
    "### Below are a few examples of evaluating arithmetic expressions in Python"
   ]
  },
  {
   "cell_type": "code",
   "execution_count": 5,
   "id": "39e0dac2-0f2b-4c5d-9302-d560118abc4c",
   "metadata": {},
   "outputs": [
    {
     "data": {
      "text/plain": [
       "17"
      ]
     },
     "execution_count": 5,
     "metadata": {},
     "output_type": "execute_result"
    }
   ],
   "source": [
    "# This is a simple arithmetic expression to multiply 3 and 4 then add the product to 5.\n",
    "(3*4)+5"
   ]
  },
  {
   "cell_type": "code",
   "execution_count": 12,
   "id": "a45d6d79-252e-4205-8c94-53fb751882f9",
   "metadata": {},
   "outputs": [
    {
     "data": {
      "text/plain": [
       "3.3333333333333335"
      ]
     },
     "execution_count": 12,
     "metadata": {},
     "output_type": "execute_result"
    }
   ],
   "source": [
    "# This will convert 200 minutes to hours by dividing by 60.\n",
    "minutes = 200\n",
    "hour = 60\n",
    "minToHours = minutes/hour\n",
    "minToHours"
   ]
  },
  {
   "cell_type": "markdown",
   "id": "79e1771c-484b-4ca8-ac9a-3a88017729cb",
   "metadata": {},
   "source": [
    "## Author\n",
    "Joseph Sibulo"
   ]
  },
  {
   "cell_type": "code",
   "execution_count": null,
   "id": "5ebd236e-1ec8-4bed-866b-d7008d7aa230",
   "metadata": {},
   "outputs": [],
   "source": []
  }
 ],
 "metadata": {
  "kernelspec": {
   "display_name": "Python 3 (ipykernel)",
   "language": "python",
   "name": "python3"
  },
  "language_info": {
   "codemirror_mode": {
    "name": "ipython",
    "version": 3
   },
   "file_extension": ".py",
   "mimetype": "text/x-python",
   "name": "python",
   "nbconvert_exporter": "python",
   "pygments_lexer": "ipython3",
   "version": "3.10.9"
  }
 },
 "nbformat": 4,
 "nbformat_minor": 5
}
